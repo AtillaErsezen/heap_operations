{
 "cells": [
  {
   "cell_type": "markdown",
   "metadata": {},
   "source": [
    "# HEAP OPERATIONS"
   ]
  },
  {
   "cell_type": "code",
   "execution_count": 2,
   "metadata": {},
   "outputs": [],
   "source": [
    "from typing import List, Tuple, Dict"
   ]
  },
  {
   "cell_type": "markdown",
   "metadata": {},
   "source": [
    "### Find min\n",
    "O(1)"
   ]
  },
  {
   "cell_type": "code",
   "execution_count": null,
   "metadata": {},
   "outputs": [],
   "source": [
    "def find_min(heap: List[int]) -> int:\n",
    "    return heap[0]"
   ]
  },
  {
   "cell_type": "markdown",
   "metadata": {},
   "source": [
    "### Insert\n",
    "O(logn)"
   ]
  },
  {
   "cell_type": "code",
   "execution_count": 3,
   "metadata": {},
   "outputs": [
    {
     "name": "stdout",
     "output_type": "stream",
     "text": [
      "[1, 3, 2, 5, 9, 8, 6]\n"
     ]
    }
   ],
   "source": [
    "def insert(heap: List[int], x: int) -> None:\n",
    "    heap.append(x)\n",
    "    i = len(heap) - 1\n",
    "    parent_ind = (i - 1) // 2\n",
    "    parent = heap[parent_ind]\n",
    "    while parent > heap[i] and i > 0:\n",
    "        #swap parent and x\n",
    "        heap[i], heap[parent_ind] = heap[parent_ind], heap[i]\n",
    "        #update parent and i\n",
    "        i = parent_ind\n",
    "        parent_ind = (i - 1) // 2\n",
    "        parent = heap[parent_ind]\n",
    "\n",
    "# Example usage\n",
    "heap = [1, 3, 6, 5, 9, 8]\n",
    "insert(heap, 2)\n",
    "print(heap)  # Output should maintain the min-heap property\n",
    "    #add x to the end\n",
    "    #sawp with parent until property restored\n"
   ]
  },
  {
   "cell_type": "markdown",
   "metadata": {},
   "source": [
    "### Delete\n",
    "O(logn)"
   ]
  },
  {
   "cell_type": "code",
   "execution_count": 10,
   "metadata": {},
   "outputs": [
    {
     "name": "stdout",
     "output_type": "stream",
     "text": [
      "[1, 5, 2, 6, 9, 8]\n"
     ]
    }
   ],
   "source": [
    "#overwrite the element with the last one\n",
    "#pop the last one\n",
    "#swap with smallest child until property restored\n",
    "def delete(heap: List[int], x: int) -> None:\n",
    "    i = heap.index(x)\n",
    "    heap[i] = heap[-1]\n",
    "    heap.pop()\n",
    "    left = 2 * i + 1\n",
    "    right = 2 * i + 2\n",
    "    smallest_child = i\n",
    "    if left < len(heap) and heap[left] < heap[smallest_child]:\n",
    "        smallest_child = left\n",
    "    if right < len(heap) and heap[right] < heap[smallest_child]:\n",
    "        smallest_child = right\n",
    "\n",
    "    while smallest_child != i:\n",
    "        heap[i], heap[smallest_child] = heap[smallest_child], heap[i]\n",
    "        i = smallest_child\n",
    "        left = 2 * i + 1\n",
    "        right = 2 * i + 2\n",
    "        smallest_child = i\n",
    "        if left < len(heap) and heap[left] < heap[smallest_child]:\n",
    "            smallest_child = left\n",
    "        if right < len(heap) and heap[right] < heap[smallest_child]:\n",
    "            smallest_child = right\n",
    "    \n",
    "    #condition\n",
    "    #swap\n",
    "# Example usage\n",
    "heap = [1, 3, 2, 5, 9, 8, 6]\n",
    "delete(heap, 3)\n",
    "print(heap)  # Output should maintain the min-heap property\n"
   ]
  },
  {
   "cell_type": "markdown",
   "metadata": {},
   "source": [
    "### extract min\n",
    "O(logn)"
   ]
  },
  {
   "cell_type": "code",
   "execution_count": 11,
   "metadata": {},
   "outputs": [
    {
     "name": "stdout",
     "output_type": "stream",
     "text": [
      "1\n",
      "[2, 3, 6, 5, 9, 8, 6]\n"
     ]
    }
   ],
   "source": [
    "def extract_min(heap):\n",
    "    i = 0\n",
    "    #save root\n",
    "    saved = heap[i]\n",
    "    #overwrite root with the last element\n",
    "    heap[i] = heap[-1]\n",
    "    #swap with smallest child until property restored\n",
    "    left = 2 * i + 1\n",
    "    right = 2 * i + 2\n",
    "    smallest_child = i\n",
    "\n",
    "    if left < len(heap) and heap[left] < heap[smallest_child]:\n",
    "        smallest_child = left\n",
    "    if right < len(heap) and heap[right] < heap[smallest_child]:\n",
    "        smallest_child = right\n",
    "\n",
    "    while smallest_child != i:\n",
    "        heap[i], heap[smallest_child] = heap[smallest_child], heap[i]\n",
    "        i = smallest_child\n",
    "        left = 2 * i + 1\n",
    "        right = 2 * i + 2\n",
    "        smallest_child = i\n",
    "        if left < len(heap) and heap[left] < heap[smallest_child]:\n",
    "            smallest_child = left\n",
    "        if right < len(heap) and heap[right] < heap[smallest_child]:\n",
    "            smallest_child = right\n",
    "    return saved\n",
    "\n",
    "# Example usage\n",
    "heap = [1, 3, 2, 5, 9, 8, 6]\n",
    "print(extract_min(heap))  # Output should be 1\n",
    "print(heap)  # Output should maintain the min-heap property\n"
   ]
  },
  {
   "cell_type": "markdown",
   "metadata": {},
   "source": [
    "### Heapify\n",
    "O(n)"
   ]
  },
  {
   "cell_type": "code",
   "execution_count": 17,
   "metadata": {},
   "outputs": [
    {
     "name": "stdout",
     "output_type": "stream",
     "text": [
      "[1, 6, 3, 9, 8, 5]\n",
      "[-2, 1, 5, 9, 4, 6, 7]\n"
     ]
    }
   ],
   "source": [
    "def heapify(arr: List[int]) -> List[int]:\n",
    "    #start from last element non-leaf node\n",
    "    #swap the smallest child with the root\n",
    "    #repeat until property\n",
    "    n = len(arr)\n",
    "    for i in range((n-1)//2, -1, -1):\n",
    "        left = 2 * i + 1\n",
    "        right = 2 * i + 2\n",
    "        smallest_child = i\n",
    "        if left < n and arr[left] < arr[smallest_child]:\n",
    "            smallest_child = left\n",
    "        if right < n and arr[right] < arr[smallest_child]:\n",
    "            smallest_child = right\n",
    "\n",
    "        while smallest_child != i:\n",
    "            arr[i], arr[smallest_child] = arr[smallest_child], arr[i]\n",
    "            i = smallest_child\n",
    "            left = 2 * i + 1\n",
    "            right = 2 * i + 2\n",
    "            smallest_child = i\n",
    "            if left < n and arr[left] < arr[smallest_child]:\n",
    "                smallest_child = left\n",
    "            if right < n and arr[right] < arr[smallest_child]:\n",
    "                smallest_child = right\n",
    "\n",
    "    return arr\n",
    "\n",
    "# Example usage\n",
    "arr = [3, 6, 5, 9, 8, 1]\n",
    "print(heapify(arr)) # Output should be [1, 6, 3, 9, 8, 5]\n",
    "arr = [9, 4, 7, 1, -2, 6, 5]\n",
    "print(heapify(arr))  # Output should be [1, 6, 3, 9, 8, 5]"
   ]
  }
 ],
 "metadata": {
  "kernelspec": {
   "display_name": "conda_atilla_per",
   "language": "python",
   "name": "python3"
  },
  "language_info": {
   "codemirror_mode": {
    "name": "ipython",
    "version": 3
   },
   "file_extension": ".py",
   "mimetype": "text/x-python",
   "name": "python",
   "nbconvert_exporter": "python",
   "pygments_lexer": "ipython3",
   "version": "3.11.5"
  }
 },
 "nbformat": 4,
 "nbformat_minor": 2
}
